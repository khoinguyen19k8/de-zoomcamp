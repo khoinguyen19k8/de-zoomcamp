{
 "cells": [
  {
   "cell_type": "code",
   "execution_count": 1,
   "id": "a80e29d0-b2c3-4c5d-9ae8-8b487b4fe32a",
   "metadata": {},
   "outputs": [],
   "source": [
    "import pyspark\n",
    "from pyspark.sql import SparkSession\n",
    "from pyspark.sql import functions as F"
   ]
  },
  {
   "cell_type": "code",
   "execution_count": 2,
   "id": "fde5630d-b3d1-433b-a003-2ab132b62deb",
   "metadata": {},
   "outputs": [
    {
     "name": "stderr",
     "output_type": "stream",
     "text": [
      "Setting default log level to \"WARN\".\n",
      "To adjust logging level use sc.setLogLevel(newLevel). For SparkR, use setLogLevel(newLevel).\n"
     ]
    },
    {
     "name": "stdout",
     "output_type": "stream",
     "text": [
      "23/02/27 22:37:56 WARN NativeCodeLoader: Unable to load native-hadoop library for your platform... using builtin-java classes where applicable\n"
     ]
    }
   ],
   "source": [
    "spark = SparkSession.builder \\\n",
    "    .master(\"local[*]\") \\\n",
    "    .appName('test') \\\n",
    "    .getOrCreate()"
   ]
  },
  {
   "cell_type": "code",
   "execution_count": 13,
   "id": "98f51dd6-6ab8-489b-98b1-92283a1352a0",
   "metadata": {},
   "outputs": [],
   "source": [
    "df_green = spark.read.parquet('data/pq/green/*/*')"
   ]
  },
  {
   "cell_type": "code",
   "execution_count": 14,
   "id": "13fb0f75-d046-4d04-8215-55c2c691131f",
   "metadata": {},
   "outputs": [],
   "source": [
    "df_green = df_green \\\n",
    "    .withColumnRenamed('lpep_pickup_datetime', 'pickup_datetime') \\\n",
    "    .withColumnRenamed('lpep_dropoff_datetime', 'dropoff_datetime')"
   ]
  },
  {
   "cell_type": "code",
   "execution_count": 15,
   "id": "d99ee8ee-5a85-4558-8d85-c23832b2bfd4",
   "metadata": {},
   "outputs": [],
   "source": [
    "df_green.createOrReplaceTempView('green')"
   ]
  },
  {
   "cell_type": "code",
   "execution_count": 16,
   "id": "638738ad-7824-41a1-9212-6f4475cb5e54",
   "metadata": {},
   "outputs": [],
   "source": [
    "df_green_revenue = spark.sql(\"\"\"\n",
    "SELECT \n",
    "    -- Reveneue grouping \n",
    "    PULocationID AS zone,\n",
    "    date_trunc('hour', pickup_datetime) AS hour, \n",
    "\n",
    "    SUM(total_amount) AS amount,\n",
    "    COUNT(*) AS number_records\n",
    "\n",
    "FROM \n",
    "    green\n",
    "WHERE\n",
    "    pickup_datetime > '2020-01-01 00:00:00'\n",
    "GROUP BY \n",
    "    zone, hour\n",
    "\"\"\")"
   ]
  },
  {
   "cell_type": "code",
   "execution_count": 23,
   "id": "12f8efb3-fb0e-4b24-8e9a-c083fdaca161",
   "metadata": {},
   "outputs": [
    {
     "name": "stdout",
     "output_type": "stream",
     "text": [
      "23/02/27 22:40:15 WARN MemoryManager: Total allocation exceeds 95.00% (1,020,054,720 bytes) of heap memory\n",
      "Scaling row group sizes to 95.00% for 8 writers\n"
     ]
    }
   ],
   "source": [
    "df_green_revenue \\\n",
    "    .repartition(20) \\\n",
    "    .write.parquet('data/report/revenue/green/', mode = 'overwrite')"
   ]
  },
  {
   "cell_type": "code",
   "execution_count": 18,
   "id": "4064a23a-b3cd-4c85-8b2e-e0df1c4e8c8e",
   "metadata": {},
   "outputs": [
    {
     "name": "stdout",
     "output_type": "stream",
     "text": [
      "+----+-------------------+------------------+--------------+\n",
      "|zone|               hour|            amount|number_records|\n",
      "+----+-------------------+------------------+--------------+\n",
      "| 208|2020-01-11 21:00:00| 75.72999999999999|             2|\n",
      "|  41|2020-01-19 20:00:00|445.98000000000013|            35|\n",
      "|  75|2020-01-08 17:00:00|1827.6199999999988|           107|\n",
      "|  74|2020-01-25 16:00:00| 828.4599999999997|            56|\n",
      "|  74|2020-01-19 20:00:00| 782.8599999999997|            54|\n",
      "| 255|2020-01-06 21:00:00|            122.49|             8|\n",
      "|  58|2020-01-30 09:00:00|             18.75|             1|\n",
      "| 260|2020-01-11 00:00:00|            181.07|            14|\n",
      "| 264|2020-01-09 06:00:00|              25.8|             1|\n",
      "| 130|2020-01-29 02:00:00|              68.3|             8|\n",
      "|  74|2020-01-01 22:00:00|353.15000000000015|            34|\n",
      "|  26|2020-01-30 08:00:00|142.01999999999998|             4|\n",
      "| 243|2020-01-20 06:00:00|59.769999999999996|             3|\n",
      "| 130|2020-01-29 09:00:00|            239.07|            15|\n",
      "|  95|2020-01-04 13:00:00|            286.37|            19|\n",
      "| 191|2020-01-17 07:00:00|              79.0|             3|\n",
      "| 218|2020-01-22 09:00:00|             211.5|             6|\n",
      "|  17|2020-01-12 17:00:00|234.78000000000006|             7|\n",
      "| 116|2020-01-21 07:00:00|            190.15|            11|\n",
      "|  72|2020-01-13 13:00:00|            109.88|             5|\n",
      "+----+-------------------+------------------+--------------+\n",
      "only showing top 20 rows\n",
      "\n"
     ]
    },
    {
     "name": "stderr",
     "output_type": "stream",
     "text": [
      "                                                                                \r"
     ]
    }
   ],
   "source": [
    "df_green_revenue.show()"
   ]
  },
  {
   "cell_type": "code",
   "execution_count": 19,
   "id": "afa9a3a5-8532-41b0-a5e4-44eecee4c2b4",
   "metadata": {},
   "outputs": [],
   "source": [
    "df_yellow = spark.read.parquet('data/pq/yellow/*/*')\n",
    "df_yellow = df_yellow \\\n",
    "    .withColumnRenamed('tpep_pickup_datetime', 'pickup_datetime') \\\n",
    "    .withColumnRenamed('tpep_dropoff_datetime', 'dropoff_datetime')"
   ]
  },
  {
   "cell_type": "code",
   "execution_count": 20,
   "id": "c787a785-07e2-4a8d-af41-05861062d776",
   "metadata": {},
   "outputs": [],
   "source": [
    "df_yellow.createOrReplaceTempView('yellow')"
   ]
  },
  {
   "cell_type": "code",
   "execution_count": 21,
   "id": "89afa17a-0e39-4035-8495-8ee8c024ee4c",
   "metadata": {},
   "outputs": [],
   "source": [
    "df_yellow_revenue = spark.sql(\"\"\"\n",
    "SELECT \n",
    "    -- Reveneue grouping \n",
    "    PULocationID AS zone,\n",
    "    date_trunc('hour', pickup_datetime) AS hour, \n",
    "\n",
    "    SUM(total_amount) AS amount,\n",
    "    COUNT(*) AS number_records\n",
    "\n",
    "FROM \n",
    "    yellow\n",
    "WHERE\n",
    "    pickup_datetime > '2020-01-01 00:00:00'\n",
    "GROUP BY \n",
    "    zone, hour\n",
    "\"\"\")"
   ]
  },
  {
   "cell_type": "code",
   "execution_count": 24,
   "id": "6ea7e611-369a-4683-a8af-f7fbdec410df",
   "metadata": {},
   "outputs": [
    {
     "name": "stderr",
     "output_type": "stream",
     "text": [
      "[Stage 28:==========================================>              (9 + 3) / 12]\r"
     ]
    },
    {
     "name": "stdout",
     "output_type": "stream",
     "text": [
      "23/02/27 22:40:44 WARN MemoryManager: Total allocation exceeds 95.00% (1,020,054,720 bytes) of heap memory\n",
      "Scaling row group sizes to 95.00% for 8 writers\n",
      "23/02/27 22:40:45 WARN MemoryManager: Total allocation exceeds 95.00% (1,020,054,720 bytes) of heap memory\n",
      "Scaling row group sizes to 95.00% for 8 writers\n"
     ]
    },
    {
     "name": "stderr",
     "output_type": "stream",
     "text": [
      "                                                                                \r"
     ]
    }
   ],
   "source": [
    "df_yellow_revenue \\\n",
    "    .repartition(20) \\\n",
    "    .write.parquet('data/report/revenue/yellow/', mode = 'overwrite')"
   ]
  },
  {
   "cell_type": "code",
   "execution_count": 28,
   "id": "e96e6b4f-f35f-4fe5-b9ff-591327aa7d8a",
   "metadata": {},
   "outputs": [],
   "source": [
    "df_green_revenue_tmp = df_green_revenue \\\n",
    "    .withColumnRenamed('amount', 'green_amount') \\\n",
    "    .withColumnRenamed('number_records', 'green_number_records')\n",
    "df_yellow_revenue_tmp = df_yellow_revenue \\\n",
    "    .withColumnRenamed('amount', 'yellow_amount') \\\n",
    "    .withColumnRenamed('number_records', 'yellow_number_records')"
   ]
  },
  {
   "cell_type": "code",
   "execution_count": 29,
   "id": "527e17ad-356d-4f17-9958-37dbdd5a3510",
   "metadata": {},
   "outputs": [],
   "source": [
    "df_join = df_green_revenue_tmp.join(df_yellow_revenue_tmp, on = ['hour', 'zone'], how = 'outer')"
   ]
  },
  {
   "cell_type": "code",
   "execution_count": 30,
   "id": "c45ac222-db0e-4c2a-9fdc-e04a65504e10",
   "metadata": {},
   "outputs": [
    {
     "name": "stderr",
     "output_type": "stream",
     "text": [
      "[Stage 40:==============================================>         (10 + 2) / 12]\r"
     ]
    },
    {
     "name": "stdout",
     "output_type": "stream",
     "text": [
      "+-------------------+----+------------+--------------------+------------------+---------------------+\n",
      "|               hour|zone|green_amount|green_number_records|     yellow_amount|yellow_number_records|\n",
      "+-------------------+----+------------+--------------------+------------------+---------------------+\n",
      "|2020-01-01 06:00:00|   1|        null|                null|445.28000000000003|                    4|\n",
      "|2020-01-01 12:00:00|   1|        null|                null|            266.66|                    3|\n",
      "|2020-01-01 13:00:00|   1|        null|                null|            213.36|                    2|\n",
      "|2020-01-01 16:00:00|   1|        null|                null|            574.02|                    6|\n",
      "|2020-01-01 19:00:00|   1|        null|                null|             96.35|                    1|\n",
      "|2020-01-02 10:00:00|   1|        null|                null|             209.1|                    2|\n",
      "|2020-01-03 07:00:00|   1|        null|                null|              99.3|                    2|\n",
      "|2020-01-03 12:00:00|   1|        null|                null|               3.3|                    1|\n",
      "|2020-01-04 03:00:00|   1|        null|                null|              10.3|                    1|\n",
      "|2020-01-04 15:00:00|   1|        null|                null|460.06000000000006|                    6|\n",
      "|2020-01-05 14:00:00|   1|        null|                null|            126.36|                    1|\n",
      "|2020-01-07 05:00:00|   1|        null|                null|            114.36|                    1|\n",
      "|2020-01-08 12:00:00|   1|        null|                null|249.85999999999999|                    2|\n",
      "|2020-01-09 07:00:00|   1|        null|                null|            128.46|                    1|\n",
      "|2020-01-09 16:00:00|   1|        null|                null|            101.05|                    1|\n",
      "|2020-01-10 06:00:00|   1|        null|                null|             99.36|                    1|\n",
      "|2020-01-10 15:00:00|   1|        null|                null|            443.37|                    4|\n",
      "|2020-01-10 17:00:00|   1|        null|                null|              95.3|                    1|\n",
      "|2020-01-11 15:00:00|   1|        null|                null|394.65999999999997|                    4|\n",
      "|2020-01-11 16:00:00|   1|        null|                null|            116.76|                    1|\n",
      "+-------------------+----+------------+--------------------+------------------+---------------------+\n",
      "only showing top 20 rows\n",
      "\n"
     ]
    },
    {
     "name": "stderr",
     "output_type": "stream",
     "text": [
      "                                                                                \r"
     ]
    }
   ],
   "source": [
    "df_join.show()"
   ]
  },
  {
   "cell_type": "code",
   "execution_count": 31,
   "id": "25f4ea18-9c35-42c7-aa5b-3f68c953493b",
   "metadata": {},
   "outputs": [
    {
     "name": "stderr",
     "output_type": "stream",
     "text": [
      "[Stage 48:>                                                         (0 + 8) / 9]\r"
     ]
    },
    {
     "name": "stdout",
     "output_type": "stream",
     "text": [
      "23/02/27 22:47:58 WARN MemoryManager: Total allocation exceeds 95.00% (1,020,054,720 bytes) of heap memory\n",
      "Scaling row group sizes to 95.00% for 8 writers\n"
     ]
    },
    {
     "name": "stderr",
     "output_type": "stream",
     "text": [
      "                                                                                \r"
     ]
    }
   ],
   "source": [
    "df_join.write.parquet('data/report/revenue/total')"
   ]
  },
  {
   "cell_type": "code",
   "execution_count": 33,
   "id": "8cab5b86-41b1-46cd-9274-00664f7f2eee",
   "metadata": {},
   "outputs": [],
   "source": [
    "df_join = spark.read.parquet('data/report/revenue/total')"
   ]
  },
  {
   "cell_type": "code",
   "execution_count": 34,
   "id": "b4c2eaf7-3c20-454b-b486-5a9f9636179d",
   "metadata": {},
   "outputs": [],
   "source": [
    "df_zones = spark.read.parquet('zones/')"
   ]
  },
  {
   "cell_type": "code",
   "execution_count": 37,
   "id": "547ffbf6-8000-4c34-8933-df5d7b2cb1f0",
   "metadata": {},
   "outputs": [],
   "source": [
    "df_result = df_join.join(df_zones, df_join.zone == df_zones.locationid)"
   ]
  },
  {
   "cell_type": "code",
   "execution_count": 40,
   "id": "e7348882-e3e0-4a8a-b559-c35ab37b8ed9",
   "metadata": {},
   "outputs": [
    {
     "name": "stdout",
     "output_type": "stream",
     "text": [
      "23/02/27 23:29:35 WARN MemoryManager: Total allocation exceeds 95.00% (1,020,054,720 bytes) of heap memory\n",
      "Scaling row group sizes to 95.00% for 8 writers\n"
     ]
    },
    {
     "name": "stderr",
     "output_type": "stream",
     "text": [
      "                                                                                \r"
     ]
    }
   ],
   "source": [
    "df_result.drop('locationid', 'zone').write.parquet('tmp/revenue-zones')"
   ]
  }
 ],
 "metadata": {
  "kernelspec": {
   "display_name": "Python 3 (ipykernel)",
   "language": "python",
   "name": "python3"
  },
  "language_info": {
   "codemirror_mode": {
    "name": "ipython",
    "version": 3
   },
   "file_extension": ".py",
   "mimetype": "text/x-python",
   "name": "python",
   "nbconvert_exporter": "python",
   "pygments_lexer": "ipython3",
   "version": "3.9.15"
  }
 },
 "nbformat": 4,
 "nbformat_minor": 5
}
