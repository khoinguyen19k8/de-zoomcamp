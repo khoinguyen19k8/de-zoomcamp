{
 "cells": [
  {
   "cell_type": "code",
   "execution_count": 16,
   "id": "2af37020-8ca4-4cb7-9baf-650e12aa0875",
   "metadata": {},
   "outputs": [],
   "source": [
    "import pandas as pd\n",
    "import numpy as np"
   ]
  },
  {
   "cell_type": "code",
   "execution_count": 2,
   "id": "cc85dcd0-3380-4ff1-bdcc-00c504298299",
   "metadata": {},
   "outputs": [
    {
     "data": {
      "text/html": [
       "<div>\n",
       "<style scoped>\n",
       "    .dataframe tbody tr th:only-of-type {\n",
       "        vertical-align: middle;\n",
       "    }\n",
       "\n",
       "    .dataframe tbody tr th {\n",
       "        vertical-align: top;\n",
       "    }\n",
       "\n",
       "    .dataframe thead th {\n",
       "        text-align: right;\n",
       "    }\n",
       "</style>\n",
       "<table border=\"1\" class=\"dataframe\">\n",
       "  <thead>\n",
       "    <tr style=\"text-align: right;\">\n",
       "      <th></th>\n",
       "      <th>dispatching_base_num</th>\n",
       "      <th>pickup_datetime</th>\n",
       "      <th>dropOff_datetime</th>\n",
       "      <th>PUlocationID</th>\n",
       "      <th>DOlocationID</th>\n",
       "      <th>SR_Flag</th>\n",
       "      <th>Affiliated_base_number</th>\n",
       "    </tr>\n",
       "  </thead>\n",
       "  <tbody>\n",
       "    <tr>\n",
       "      <th>0</th>\n",
       "      <td>B00037</td>\n",
       "      <td>2019-02-01 00:08:44</td>\n",
       "      <td>2019-02-01 00:23:35</td>\n",
       "      <td>264.0</td>\n",
       "      <td>265.0</td>\n",
       "      <td>NaN</td>\n",
       "      <td>B00037</td>\n",
       "    </tr>\n",
       "    <tr>\n",
       "      <th>1</th>\n",
       "      <td>B00037</td>\n",
       "      <td>2019-02-01 00:27:51</td>\n",
       "      <td>2019-02-01 00:32:54</td>\n",
       "      <td>264.0</td>\n",
       "      <td>265.0</td>\n",
       "      <td>NaN</td>\n",
       "      <td>B00037</td>\n",
       "    </tr>\n",
       "    <tr>\n",
       "      <th>2</th>\n",
       "      <td>B00037</td>\n",
       "      <td>2019-02-01 00:18:30</td>\n",
       "      <td>2019-02-01 00:25:45</td>\n",
       "      <td>264.0</td>\n",
       "      <td>265.0</td>\n",
       "      <td>NaN</td>\n",
       "      <td>B00037</td>\n",
       "    </tr>\n",
       "    <tr>\n",
       "      <th>3</th>\n",
       "      <td>B00037</td>\n",
       "      <td>2019-02-01 00:43:15</td>\n",
       "      <td>2019-02-01 00:48:29</td>\n",
       "      <td>264.0</td>\n",
       "      <td>265.0</td>\n",
       "      <td>NaN</td>\n",
       "      <td>B00037</td>\n",
       "    </tr>\n",
       "    <tr>\n",
       "      <th>4</th>\n",
       "      <td>B00037</td>\n",
       "      <td>2019-02-01 00:01:45</td>\n",
       "      <td>2019-02-01 00:09:13</td>\n",
       "      <td>264.0</td>\n",
       "      <td>265.0</td>\n",
       "      <td>NaN</td>\n",
       "      <td>B00037</td>\n",
       "    </tr>\n",
       "  </tbody>\n",
       "</table>\n",
       "</div>"
      ],
      "text/plain": [
       "  dispatching_base_num      pickup_datetime     dropOff_datetime  \\\n",
       "0               B00037  2019-02-01 00:08:44  2019-02-01 00:23:35   \n",
       "1               B00037  2019-02-01 00:27:51  2019-02-01 00:32:54   \n",
       "2               B00037  2019-02-01 00:18:30  2019-02-01 00:25:45   \n",
       "3               B00037  2019-02-01 00:43:15  2019-02-01 00:48:29   \n",
       "4               B00037  2019-02-01 00:01:45  2019-02-01 00:09:13   \n",
       "\n",
       "   PUlocationID  DOlocationID  SR_Flag Affiliated_base_number  \n",
       "0         264.0         265.0      NaN                 B00037  \n",
       "1         264.0         265.0      NaN                 B00037  \n",
       "2         264.0         265.0      NaN                 B00037  \n",
       "3         264.0         265.0      NaN                 B00037  \n",
       "4         264.0         265.0      NaN                 B00037  "
      ]
     },
     "execution_count": 2,
     "metadata": {},
     "output_type": "execute_result"
    }
   ],
   "source": [
    "df = pd.read_csv(\"fhv_tripdata_2019-02.csv.gz\")\n",
    "df.head()"
   ]
  },
  {
   "cell_type": "code",
   "execution_count": 4,
   "id": "d657f151-be3a-4e9d-94e3-85739adea883",
   "metadata": {},
   "outputs": [
    {
     "name": "stdout",
     "output_type": "stream",
     "text": [
      "<class 'pandas.core.frame.DataFrame'>\n",
      "RangeIndex: 1707649 entries, 0 to 1707648\n",
      "Data columns (total 7 columns):\n",
      " #   Column                  Dtype  \n",
      "---  ------                  -----  \n",
      " 0   dispatching_base_num    object \n",
      " 1   pickup_datetime         object \n",
      " 2   dropOff_datetime        object \n",
      " 3   PUlocationID            float64\n",
      " 4   DOlocationID            float64\n",
      " 5   SR_Flag                 float64\n",
      " 6   Affiliated_base_number  object \n",
      "dtypes: float64(3), object(4)\n",
      "memory usage: 91.2+ MB\n"
     ]
    }
   ],
   "source": [
    "df.info()"
   ]
  },
  {
   "cell_type": "code",
   "execution_count": 6,
   "id": "6eef07d1-0b55-4de2-867b-46f8eb6fd553",
   "metadata": {},
   "outputs": [
    {
     "data": {
      "text/plain": [
       "dispatching_base_num            0\n",
       "pickup_datetime                 0\n",
       "dropOff_datetime                0\n",
       "PUlocationID                    1\n",
       "DOlocationID                    1\n",
       "SR_Flag                   1707643\n",
       "Affiliated_base_number       7107\n",
       "dtype: int64"
      ]
     },
     "execution_count": 6,
     "metadata": {},
     "output_type": "execute_result"
    }
   ],
   "source": [
    "df.isna().sum()"
   ]
  },
  {
   "cell_type": "code",
   "execution_count": 8,
   "id": "6a033832-d27d-4ab3-ad14-8b1b28db9516",
   "metadata": {},
   "outputs": [
    {
     "data": {
      "text/plain": [
       "(1707649, 7)"
      ]
     },
     "execution_count": 8,
     "metadata": {},
     "output_type": "execute_result"
    }
   ],
   "source": [
    "df.shape"
   ]
  },
  {
   "cell_type": "code",
   "execution_count": 21,
   "id": "3551d419-2881-480b-9e13-1c5469a637d8",
   "metadata": {},
   "outputs": [],
   "source": [
    "df[\"dispatching_base_num\"] = df[\"dispatching_base_num\"].astype(str)\n",
    "df[\"pickup_datetime\"] = pd.to_datetime(df[\"pickup_datetime\"])"
   ]
  },
  {
   "cell_type": "code",
   "execution_count": 26,
   "id": "cf477b89-b253-4ef8-bba7-5e71b7152813",
   "metadata": {},
   "outputs": [],
   "source": [
    "df[\"dropOff_datetime\"] = df[\"dropOff_datetime\"].astype(np.datetime64)"
   ]
  },
  {
   "cell_type": "code",
   "execution_count": 27,
   "id": "04edc019-dce4-4c16-b754-383d803a4ba8",
   "metadata": {},
   "outputs": [
    {
     "name": "stdout",
     "output_type": "stream",
     "text": [
      "<class 'pandas.core.frame.DataFrame'>\n",
      "RangeIndex: 1707649 entries, 0 to 1707648\n",
      "Data columns (total 7 columns):\n",
      " #   Column                  Dtype         \n",
      "---  ------                  -----         \n",
      " 0   dispatching_base_num    object        \n",
      " 1   pickup_datetime         datetime64[ns]\n",
      " 2   dropOff_datetime        datetime64[ns]\n",
      " 3   PUlocationID            float64       \n",
      " 4   DOlocationID            float64       \n",
      " 5   SR_Flag                 float64       \n",
      " 6   Affiliated_base_number  object        \n",
      "dtypes: datetime64[ns](2), float64(3), object(2)\n",
      "memory usage: 91.2+ MB\n"
     ]
    }
   ],
   "source": [
    "df.info()"
   ]
  },
  {
   "cell_type": "code",
   "execution_count": 19,
   "id": "4ddfef99-4364-4d9f-b580-c4db51728906",
   "metadata": {},
   "outputs": [
    {
     "data": {
      "text/plain": [
       "0          0                   B00037\\n1                 ...\n",
       "1          0                   B00037\\n1                 ...\n",
       "2          0                   B00037\\n1                 ...\n",
       "3          0                   B00037\\n1                 ...\n",
       "4          0                   B00037\\n1                 ...\n",
       "                                 ...                        \n",
       "1707644    0                   B00037\\n1                 ...\n",
       "1707645    0                   B00037\\n1                 ...\n",
       "1707646    0                   B00037\\n1                 ...\n",
       "1707647    0                   B00037\\n1                 ...\n",
       "1707648    0                   B00037\\n1                 ...\n",
       "Name: dispatching_base_num, Length: 1707649, dtype: object"
      ]
     },
     "execution_count": 19,
     "metadata": {},
     "output_type": "execute_result"
    }
   ],
   "source": [
    "df[\"dispatching_base_num\"]"
   ]
  }
 ],
 "metadata": {
  "kernelspec": {
   "display_name": "Python 3 (ipykernel)",
   "language": "python",
   "name": "python3"
  },
  "language_info": {
   "codemirror_mode": {
    "name": "ipython",
    "version": 3
   },
   "file_extension": ".py",
   "mimetype": "text/x-python",
   "name": "python",
   "nbconvert_exporter": "python",
   "pygments_lexer": "ipython3",
   "version": "3.11.0"
  }
 },
 "nbformat": 4,
 "nbformat_minor": 5
}
